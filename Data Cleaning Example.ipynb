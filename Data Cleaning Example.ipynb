{
 "cells": [
  {
   "cell_type": "code",
   "execution_count": 257,
   "id": "ab58870f-fa2d-4e67-86b2-d87903286f60",
   "metadata": {},
   "outputs": [],
   "source": [
    "import pandas as pd"
   ]
  },
  {
   "cell_type": "code",
   "execution_count": 259,
   "id": "1bcbffcc-7d4e-4f48-af74-b902533cb162",
   "metadata": {},
   "outputs": [
    {
     "data": {
      "text/html": [
       "<div>\n",
       "<style scoped>\n",
       "    .dataframe tbody tr th:only-of-type {\n",
       "        vertical-align: middle;\n",
       "    }\n",
       "\n",
       "    .dataframe tbody tr th {\n",
       "        vertical-align: top;\n",
       "    }\n",
       "\n",
       "    .dataframe thead th {\n",
       "        text-align: right;\n",
       "    }\n",
       "</style>\n",
       "<table border=\"1\" class=\"dataframe\">\n",
       "  <thead>\n",
       "    <tr style=\"text-align: right;\">\n",
       "      <th></th>\n",
       "      <th>Name</th>\n",
       "      <th>Age</th>\n",
       "      <th>Gender</th>\n",
       "      <th>Email</th>\n",
       "      <th>Salary</th>\n",
       "      <th>Join_Date</th>\n",
       "    </tr>\n",
       "  </thead>\n",
       "  <tbody>\n",
       "    <tr>\n",
       "      <th>0</th>\n",
       "      <td>John Doe</td>\n",
       "      <td>28.0</td>\n",
       "      <td>Male</td>\n",
       "      <td>johndoe@example.com</td>\n",
       "      <td>50000.0</td>\n",
       "      <td>2021-03-15</td>\n",
       "    </tr>\n",
       "    <tr>\n",
       "      <th>1</th>\n",
       "      <td>Jane Smith</td>\n",
       "      <td>NaN</td>\n",
       "      <td>Female</td>\n",
       "      <td>janesmith@example</td>\n",
       "      <td>60000.0</td>\n",
       "      <td>2021-07-01</td>\n",
       "    </tr>\n",
       "    <tr>\n",
       "      <th>2</th>\n",
       "      <td>Sam Johnson</td>\n",
       "      <td>45.0</td>\n",
       "      <td>Male</td>\n",
       "      <td>sam.johnson@example.com</td>\n",
       "      <td>NaN</td>\n",
       "      <td>2020-01-22</td>\n",
       "    </tr>\n",
       "    <tr>\n",
       "      <th>3</th>\n",
       "      <td>Anna Brown</td>\n",
       "      <td>30.0</td>\n",
       "      <td>Female</td>\n",
       "      <td>annabrown@example.com</td>\n",
       "      <td>70000.0</td>\n",
       "      <td>2021-13-01</td>\n",
       "    </tr>\n",
       "    <tr>\n",
       "      <th>4</th>\n",
       "      <td>None</td>\n",
       "      <td>32.0</td>\n",
       "      <td>None</td>\n",
       "      <td>sarah.connor@example.com</td>\n",
       "      <td>80000.0</td>\n",
       "      <td>2020-05-30</td>\n",
       "    </tr>\n",
       "    <tr>\n",
       "      <th>5</th>\n",
       "      <td>Paul Davis</td>\n",
       "      <td>41.0</td>\n",
       "      <td>Male</td>\n",
       "      <td>pauldavis@sample.com</td>\n",
       "      <td>90000.0</td>\n",
       "      <td>2021-02-29</td>\n",
       "    </tr>\n",
       "    <tr>\n",
       "      <th>6</th>\n",
       "      <td>Mary Johnson</td>\n",
       "      <td>28.0</td>\n",
       "      <td>Female</td>\n",
       "      <td>mary.johnson@sample</td>\n",
       "      <td>55000.0</td>\n",
       "      <td>2019-12-11</td>\n",
       "    </tr>\n",
       "    <tr>\n",
       "      <th>7</th>\n",
       "      <td>John Doe</td>\n",
       "      <td>28.0</td>\n",
       "      <td>Male</td>\n",
       "      <td>johndoe@example.com</td>\n",
       "      <td>50000.0</td>\n",
       "      <td>2021-03-15</td>\n",
       "    </tr>\n",
       "    <tr>\n",
       "      <th>8</th>\n",
       "      <td>Tom Lee</td>\n",
       "      <td>35.0</td>\n",
       "      <td>Male</td>\n",
       "      <td>tom.lee@sample.com</td>\n",
       "      <td>120000.0</td>\n",
       "      <td>2018-07-04</td>\n",
       "    </tr>\n",
       "    <tr>\n",
       "      <th>9</th>\n",
       "      <td>Emily Davis</td>\n",
       "      <td>23.0</td>\n",
       "      <td>Female</td>\n",
       "      <td>emily.davis@sample.com</td>\n",
       "      <td>35000.0</td>\n",
       "      <td>2022-11-31</td>\n",
       "    </tr>\n",
       "  </tbody>\n",
       "</table>\n",
       "</div>"
      ],
      "text/plain": [
       "           Name   Age  Gender                     Email    Salary   Join_Date\n",
       "0      John Doe  28.0    Male       johndoe@example.com   50000.0  2021-03-15\n",
       "1    Jane Smith   NaN  Female         janesmith@example   60000.0  2021-07-01\n",
       "2   Sam Johnson  45.0    Male   sam.johnson@example.com       NaN  2020-01-22\n",
       "3    Anna Brown  30.0  Female     annabrown@example.com   70000.0  2021-13-01\n",
       "4          None  32.0    None  sarah.connor@example.com   80000.0  2020-05-30\n",
       "5    Paul Davis  41.0    Male      pauldavis@sample.com   90000.0  2021-02-29\n",
       "6  Mary Johnson  28.0  Female       mary.johnson@sample   55000.0  2019-12-11\n",
       "7      John Doe  28.0    Male       johndoe@example.com   50000.0  2021-03-15\n",
       "8       Tom Lee  35.0    Male        tom.lee@sample.com  120000.0  2018-07-04\n",
       "9   Emily Davis  23.0  Female    emily.davis@sample.com   35000.0  2022-11-31"
      ]
     },
     "execution_count": 259,
     "metadata": {},
     "output_type": "execute_result"
    }
   ],
   "source": [
    "data = {\n",
    "    'Name': ['John Doe', 'Jane Smith', 'Sam Johnson', 'Anna Brown', None, 'Paul Davis', 'Mary Johnson', 'John Doe', 'Tom Lee', 'Emily Davis'],\n",
    "    'Age': [28, None, 45, 30, 32, 41, 28, 28, 35, 23],\n",
    "    'Gender': ['Male', 'Female', 'Male', 'Female', None, 'Male', 'Female', 'Male', 'Male', 'Female'],\n",
    "    'Email': ['johndoe@example.com', 'janesmith@example', 'sam.johnson@example.com', 'annabrown@example.com', 'sarah.connor@example.com', 'pauldavis@sample.com', 'mary.johnson@sample', 'johndoe@example.com', 'tom.lee@sample.com', 'emily.davis@sample.com'],\n",
    "    'Salary': [50000, 60000, None, 70000, 80000, 90000, 55000, 50000, 120000, 35000],\n",
    "    'Join_Date': ['2021-03-15', '2021-07-01', '2020-01-22', '2021-13-01', '2020-05-30', '2021-02-29', '2019-12-11', '2021-03-15', '2018-07-04', '2022-11-31']\n",
    "}\n",
    "\n",
    "df = pd.DataFrame(data)\n",
    "df"
   ]
  },
  {
   "cell_type": "code",
   "execution_count": null,
   "id": "74b556a0-5b47-40eb-b197-7564df05832e",
   "metadata": {},
   "outputs": [],
   "source": [
    "# Displaying a concise summary of the DataFrame\n",
    "df.info()"
   ]
  },
  {
   "cell_type": "code",
   "execution_count": null,
   "id": "426b2149-7333-4886-a907-e3c1e7da73dd",
   "metadata": {},
   "outputs": [],
   "source": [
    "# Displaying basic statistics for numerical columns\n",
    "df.describe()"
   ]
  },
  {
   "cell_type": "code",
   "execution_count": null,
   "id": "24188c7c-6d0d-49a9-abfb-d5bf5cf326cf",
   "metadata": {},
   "outputs": [],
   "source": [
    "# Displaying the shape of the DataFrame (rows, columns)\n",
    "df.shape"
   ]
  },
  {
   "cell_type": "code",
   "execution_count": null,
   "id": "c859a162-3e79-429f-9a10-3fd91a944277",
   "metadata": {},
   "outputs": [],
   "source": [
    "# Checking for duplicate values \n",
    "df.duplicated().sum()"
   ]
  },
  {
   "cell_type": "code",
   "execution_count": null,
   "id": "d5d54cc0-e0ba-430f-9af8-7752723dab3a",
   "metadata": {},
   "outputs": [],
   "source": [
    "# Deleting duplicate values\n",
    "df = df.drop_duplicates()\n",
    "df"
   ]
  },
  {
   "cell_type": "code",
   "execution_count": null,
   "id": "eb5f7a6b-513d-47f4-9476-0141e28ec3ba",
   "metadata": {},
   "outputs": [],
   "source": [
    "# Checking for unique values\n",
    "df.nunique()"
   ]
  },
  {
   "cell_type": "code",
   "execution_count": null,
   "id": "93490c74-e158-4e16-b107-bab10b7beff8",
   "metadata": {},
   "outputs": [],
   "source": [
    "# Displaying the datatypes of each column \n",
    "df.dtypes"
   ]
  },
  {
   "cell_type": "code",
   "execution_count": null,
   "id": "1379656c-57d8-474c-906a-34687c5537e0",
   "metadata": {},
   "outputs": [],
   "source": [
    "# Checking for the number of the missing values in each column \n",
    "df.isnull().sum()"
   ]
  },
  {
   "cell_type": "code",
   "execution_count": null,
   "id": "56c4470b-1df6-4ba1-803a-f4856f35bd7d",
   "metadata": {},
   "outputs": [],
   "source": [
    "# Filling the missing 'Age' column \n",
    "df['Age'].mean()\n",
    "df['Age'] = df['Age'].fillna(round(df['Age'].mean()-2))"
   ]
  },
  {
   "cell_type": "code",
   "execution_count": 279,
   "id": "d075006a-01c9-42ea-a656-c86d16de1845",
   "metadata": {},
   "outputs": [],
   "source": [
    "# Droping rows where the 'Name' column is missing  \n",
    "df = df.dropna(subset='Name')"
   ]
  },
  {
   "cell_type": "code",
   "execution_count": null,
   "id": "f9eac130-77cc-429a-a950-818edd8c26e4",
   "metadata": {},
   "outputs": [],
   "source": [
    "# Filling the missing 'Salary' column\n",
    "df['Salary'].median()\n",
    "df['Salary'] = df['Salary'].fillna((df['Age']/2)*1000+df['Salary'].median())"
   ]
  },
  {
   "cell_type": "code",
   "execution_count": null,
   "id": "6e81126f-9464-4bd3-b478-19cd2e6616d3",
   "metadata": {},
   "outputs": [],
   "source": [
    "# Changing 'Join_Date' data type to DateTime  \n",
    "df['Join_Date'] = pd.to_datetime(df['Join_Date'],errors='coerce')\n",
    "df.dropna(subset=['Join_Date'], inplace=True)"
   ]
  },
  {
   "cell_type": "code",
   "execution_count": null,
   "id": "65dc5326-3590-4d24-9376-39de951d269c",
   "metadata": {},
   "outputs": [],
   "source": [
    "# Seting 'Name' column as index\n",
    "df = df.set_index('Name')\n",
    "df"
   ]
  },
  {
   "cell_type": "code",
   "execution_count": 289,
   "id": "24866109-2c5d-4a07-9539-98797b9a8e37",
   "metadata": {},
   "outputs": [
    {
     "data": {
      "text/html": [
       "<div>\n",
       "<style scoped>\n",
       "    .dataframe tbody tr th:only-of-type {\n",
       "        vertical-align: middle;\n",
       "    }\n",
       "\n",
       "    .dataframe tbody tr th {\n",
       "        vertical-align: top;\n",
       "    }\n",
       "\n",
       "    .dataframe thead th {\n",
       "        text-align: right;\n",
       "    }\n",
       "</style>\n",
       "<table border=\"1\" class=\"dataframe\">\n",
       "  <thead>\n",
       "    <tr style=\"text-align: right;\">\n",
       "      <th></th>\n",
       "      <th>Age</th>\n",
       "      <th>Gender</th>\n",
       "      <th>Email</th>\n",
       "      <th>Salary</th>\n",
       "      <th>Join_Date</th>\n",
       "    </tr>\n",
       "    <tr>\n",
       "      <th>Name</th>\n",
       "      <th></th>\n",
       "      <th></th>\n",
       "      <th></th>\n",
       "      <th></th>\n",
       "      <th></th>\n",
       "    </tr>\n",
       "  </thead>\n",
       "  <tbody>\n",
       "    <tr>\n",
       "      <th>John Doe</th>\n",
       "      <td>28.0</td>\n",
       "      <td>Male</td>\n",
       "      <td>johndoe@example.com</td>\n",
       "      <td>50000.0</td>\n",
       "      <td>2021-03-15</td>\n",
       "    </tr>\n",
       "    <tr>\n",
       "      <th>Jane Smith</th>\n",
       "      <td>31.0</td>\n",
       "      <td>Female</td>\n",
       "      <td>janesmith@example.com</td>\n",
       "      <td>60000.0</td>\n",
       "      <td>2021-07-01</td>\n",
       "    </tr>\n",
       "    <tr>\n",
       "      <th>Sam Johnson</th>\n",
       "      <td>45.0</td>\n",
       "      <td>Male</td>\n",
       "      <td>sam.johnson@example.com</td>\n",
       "      <td>82500.0</td>\n",
       "      <td>2020-01-22</td>\n",
       "    </tr>\n",
       "    <tr>\n",
       "      <th>Mary Johnson</th>\n",
       "      <td>28.0</td>\n",
       "      <td>Female</td>\n",
       "      <td>mary.johnson@sample.com</td>\n",
       "      <td>55000.0</td>\n",
       "      <td>2019-12-11</td>\n",
       "    </tr>\n",
       "    <tr>\n",
       "      <th>Tom Lee</th>\n",
       "      <td>35.0</td>\n",
       "      <td>Male</td>\n",
       "      <td>tom.lee@sample.com</td>\n",
       "      <td>120000.0</td>\n",
       "      <td>2018-07-04</td>\n",
       "    </tr>\n",
       "  </tbody>\n",
       "</table>\n",
       "</div>"
      ],
      "text/plain": [
       "               Age  Gender                    Email    Salary  Join_Date\n",
       "Name                                                                    \n",
       "John Doe      28.0    Male      johndoe@example.com   50000.0 2021-03-15\n",
       "Jane Smith    31.0  Female    janesmith@example.com   60000.0 2021-07-01\n",
       "Sam Johnson   45.0    Male  sam.johnson@example.com   82500.0 2020-01-22\n",
       "Mary Johnson  28.0  Female  mary.johnson@sample.com   55000.0 2019-12-11\n",
       "Tom Lee       35.0    Male       tom.lee@sample.com  120000.0 2018-07-04"
      ]
     },
     "execution_count": 289,
     "metadata": {},
     "output_type": "execute_result"
    }
   ],
   "source": [
    "# Correcting 'Email' column\n",
    "df['Email']=df['Email'].apply(lambda x:x+'.com' if 'com' not in x else x)\n",
    "df"
   ]
  },
  {
   "cell_type": "code",
   "execution_count": null,
   "id": "ca45af7a-3242-4d59-a24e-12c8eab33b86",
   "metadata": {},
   "outputs": [],
   "source": []
  }
 ],
 "metadata": {
  "kernelspec": {
   "display_name": "Python 3 (ipykernel)",
   "language": "python",
   "name": "python3"
  },
  "language_info": {
   "codemirror_mode": {
    "name": "ipython",
    "version": 3
   },
   "file_extension": ".py",
   "mimetype": "text/x-python",
   "name": "python",
   "nbconvert_exporter": "python",
   "pygments_lexer": "ipython3",
   "version": "3.12.4"
  }
 },
 "nbformat": 4,
 "nbformat_minor": 5
}
